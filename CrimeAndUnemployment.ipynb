{
 "cells": [
  {
   "cell_type": "code",
   "execution_count": null,
   "metadata": {},
   "outputs": [],
   "source": [
    "# Dependencies\n",
    "import numpy as np\n",
    "import pandas as pd\n",
    "import matplotlib.pyplot as plt\n",
    "import requests\n",
    "import json"
   ]
  },
  {
   "cell_type": "code",
   "execution_count": null,
   "metadata": {},
   "outputs": [],
   "source": [
    "# edd_areas = [\"San Francisco-Redwood City-South San Francisco MD\", \n",
    "#              \"Los Angeles-Long Beach-Glendale MD\", \n",
    "#              \"Oakland-Hayward-Berkeley MD\",\n",
    "#              \"California\"]\n",
    "\n",
    "# edd_years = [\"2010\", \"2011\", \"2012\", \"2013\", \"2014\", \"2015\", \"2016\", \"2017\"]\n",
    "\n",
    "# edd_months = [\"January\", \"February\", \"March\", \n",
    "#               \"April\", \"May\", \"June\", \n",
    "#               \"July\", \"August\", \"September\", \n",
    "#               \"October\", \"November\", \"December\"]"
   ]
  },
  {
   "cell_type": "code",
   "execution_count": null,
   "metadata": {},
   "outputs": [],
   "source": [
    "edd_all_df =[]\n",
    "\n",
    "edd_url = \"https://data.edd.ca.gov/resource/4ezp-3bs3.json?\"\n",
    "\n",
    "edd_query_url = edd_url + \"area_name=\" + \"California\" + \"&seasonally_adjusted_y_n=N\"\n",
    "edd_qresponse = requests.get(edd_query_url).json()\n",
    "keep_columns = ['area_name','date','month','unemployment_rate','year']\n",
    "edd_ca_df = pd.DataFrame(columns=keep_columns, data=edd_qresponse)\n",
    "edd_ca_df['City'] = 'CA'\n",
    "edd_ca_df['Crime Rate'] = 0\n",
    "\n",
    "edd_ca_df.reset_index()\n",
    "edd_ca_df.drop('area_name', axis=1)\n",
    "edd_ca_df = edd_ca_df[[\"City\",\"year\",\"month\",\"date\", \"unemployment_rate\", \"Crime Rate\"]]\n",
    "edd_ca_df = edd_ca_df.rename(columns={\"year\":\"Year\", \"month\":\"Month\",\"date\":\"Date\",\"unemployment_rate\":\"UE Rate\"})\n",
    "\n",
    "\n",
    "edd_url = \"https://data.edd.ca.gov/resource/4ezp-3bs3.json?\"\n",
    "\n",
    "edd_query_url = edd_url + \"area_name=\" + \"San Francisco-Redwood City-South San Francisco MD\" + \"&seasonally_adjusted_y_n=N\"\n",
    "edd_qresponse = requests.get(edd_query_url).json()\n",
    "keep_columns = ['area_name','date','month','unemployment_rate','year']\n",
    "edd_sf_df = pd.DataFrame(columns=keep_columns, data=edd_qresponse)\n",
    "edd_sf_df['City'] = 'SF'\n",
    "edd_sf_df['Crime Rate'] = 0\n",
    "\n",
    "edd_sf_df.reset_index()\n",
    "edd_sf_df.drop('area_name', axis=1)\n",
    "edd_sf_df = edd_sf_df[[\"City\",\"year\",\"month\",\"date\", \"unemployment_rate\", \"Crime Rate\"]]\n",
    "edd_sf_df = edd_sf_df.rename(columns={\"year\":\"Year\", \"month\":\"Month\",\"date\":\"Date\",\"unemployment_rate\":\"UE Rate\"})\n",
    "\n",
    "\n",
    "edd_url = \"https://data.edd.ca.gov/resource/4ezp-3bs3.json?\"\n",
    "\n",
    "edd_query_url = edd_url + \"area_name=\" + \"Los Angeles-Long Beach-Glendale MD\" + \"&seasonally_adjusted_y_n=N\"\n",
    "edd_qresponse = requests.get(edd_query_url).json()\n",
    "keep_columns = ['area_name','date','month','unemployment_rate','year']\n",
    "edd_la_df = pd.DataFrame(columns=keep_columns, data=edd_qresponse)\n",
    "edd_la_df['City'] = 'LA'\n",
    "edd_la_df['Crime Rate'] = 0\n",
    "\n",
    "edd_la_df.reset_index()\n",
    "edd_la_df.drop('area_name', axis=1)\n",
    "edd_la_df = edd_la_df[[\"City\",\"year\",\"month\",\"date\", \"unemployment_rate\", \"Crime Rate\"]]\n",
    "edd_la_df = edd_la_df.rename(columns={\"year\":\"Year\", \"month\":\"Month\",\"date\":\"Date\",\"unemployment_rate\":\"UE Rate\"})\n",
    "\n",
    "\n",
    "edd_url = \"https://data.edd.ca.gov/resource/4ezp-3bs3.json?\"\n",
    "\n",
    "edd_query_url = edd_url + \"area_name=\" + \"Oakland-Hayward-Berkeley MD\" + \"&seasonally_adjusted_y_n=N\"\n",
    "edd_qresponse = requests.get(edd_query_url).json()\n",
    "keep_columns = ['area_name','date','month','unemployment_rate','year']\n",
    "edd_oak_df = pd.DataFrame(columns=keep_columns, data=edd_qresponse)\n",
    "edd_oak_df['City'] = 'OAK'\n",
    "edd_oak_df['Crime Rate'] = 0\n",
    "\n",
    "edd_oak_df.reset_index()\n",
    "edd_oak_df.drop('area_name', axis=1)\n",
    "edd_oak_df = edd_oak_df[[\"City\",\"year\",\"month\",\"date\", \"unemployment_rate\", \"Crime Rate\"]]\n",
    "edd_oak_df = edd_oak_df.rename(columns={\"year\":\"Year\", \"month\":\"Month\",\"date\":\"Date\",\"unemployment_rate\":\"UE Rate\"})"
   ]
  },
  {
   "cell_type": "code",
   "execution_count": 76,
   "metadata": {},
   "outputs": [],
   "source": [
    "edd_all_df.append(edd_sf_df)\n",
    "\n",
    "edd_all_df.append(edd_la_df)\n",
    "\n",
    "edd_all_df.append(edd_oak_df)\n",
    "\n",
    "edd_all_df.append(edd_ca_df)"
   ]
  },
  {
   "cell_type": "code",
   "execution_count": null,
   "metadata": {},
   "outputs": [],
   "source": [
    "edd_all_df"
   ]
  },
  {
   "cell_type": "code",
   "execution_count": 80,
   "metadata": {},
   "outputs": [],
   "source": [
    "export_csv = edd_ca_df.to_csv(r'ca_dataframe.csv', index = None, header=True)\n",
    "export_csv = edd_sf_df.to_csv(r'sf_dataframe.csv', index = None, header=True)\n",
    "export_csv = edd_oak_df.to_csv(r'oak_dataframe.csv', index = None, header=True)\n",
    "export_csv = edd_la_df.to_csv(r'la_dataframe.csv', index = None, header=True)"
   ]
  },
  {
   "cell_type": "code",
   "execution_count": null,
   "metadata": {},
   "outputs": [],
   "source": [
    "# pd.DataFrame(pd.np.append(edd_ca_df.values, edd_sf_df.values, edd_la_df.values, edd_oak_df.values), \n",
    "#              columns=[\"City\", \"Year\", \"Month\", \"Date\", \"UE Rate\", \"Crime Rate\"])"
   ]
  }
 ],
 "metadata": {
  "anaconda-cloud": {},
  "kernelspec": {
   "display_name": "Python 3",
   "language": "python",
   "name": "python3"
  },
  "language_info": {
   "codemirror_mode": {
    "name": "ipython",
    "version": 3
   },
   "file_extension": ".py",
   "mimetype": "text/x-python",
   "name": "python",
   "nbconvert_exporter": "python",
   "pygments_lexer": "ipython3",
   "version": "3.7.0"
  }
 },
 "nbformat": 4,
 "nbformat_minor": 1
}
